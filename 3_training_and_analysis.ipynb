{
  "cells": [
    {
      "cell_type": "markdown",
      "metadata": {
        "id": "view-in-github",
        "colab_type": "text"
      },
      "source": [
        "<a href=\"https://colab.research.google.com/github/Madhu2244/-REST_API-MongoDB-Swagger-Springboot/blob/master/3_training_and_analysis.ipynb\" target=\"_parent\"><img src=\"https://colab.research.google.com/assets/colab-badge.svg\" alt=\"Open In Colab\"/></a>"
      ]
    },
    {
      "cell_type": "markdown",
      "metadata": {
        "id": "z2nGDz0JliKU"
      },
      "source": [
        "# **3. Training and Testing**\n",
        "Please start early! Section 3.6 Training may take one to two hours to run."
      ]
    },
    {
      "cell_type": "markdown",
      "metadata": {
        "id": "c5U9gkiTnC4s"
      },
      "source": [
        "## 3.0 Setup GDrive and Git"
      ]
    },
    {
      "cell_type": "code",
      "execution_count": 1,
      "metadata": {
        "id": "WwcJax1zU04M",
        "colab": {
          "base_uri": "https://localhost:8080/"
        },
        "outputId": "a88edd18-3074-4ec7-b525-f3b7c6b516ba"
      },
      "outputs": [
        {
          "output_type": "stream",
          "name": "stdout",
          "text": [
            "Mounted at /content/gdrive\n"
          ]
        }
      ],
      "source": [
        "# Mount google drive\n",
        "from google.colab import drive\n",
        "drive.mount('/content/gdrive')"
      ]
    },
    {
      "cell_type": "code",
      "execution_count": 2,
      "metadata": {
        "id": "NQklidVMU0-t"
      },
      "outputs": [],
      "source": [
        "# Make sure your token is stored in a txt file at the location below.\n",
        "# This way there is no risk that you will push it to your repo\n",
        "# Never share your token with anyone, it is basically your github password!\n",
        "with open('/content/gdrive/MyDrive/ece5545/token.txt') as f:\n",
        "    token = f.readline().strip()\n",
        "# Use another file to store your github username\n",
        "with open('/content/gdrive/MyDrive/ece5545/git_username.txt') as f:\n",
        "    handle = f.readline().strip()"
      ]
    },
    {
      "cell_type": "code",
      "execution_count": 3,
      "metadata": {
        "id": "7bdUCGFEU1Es",
        "colab": {
          "base_uri": "https://localhost:8080/"
        },
        "outputId": "d57131fe-7fbc-42ba-fd42-c33aa23b519d"
      },
      "outputs": [
        {
          "output_type": "stream",
          "name": "stdout",
          "text": [
            "mkdir: cannot create directory ‘/content/gdrive/MyDrive/ece5545’: File exists\n",
            "/content/gdrive/MyDrive/ece5545\n",
            "fatal: destination path 'a2-Madhu2244' already exists and is not an empty directory.\n",
            "/content/gdrive/MyDrive/ece5545/a2-Madhu2244\n",
            "M\tsrc/__pycache__/data_proc.cpython-36.pyc\n",
            "M\tsrc/data_proc.py\n",
            "M\tsrc/size_estimate.py\n",
            "Already on 'main'\n",
            "Your branch is behind 'origin/main' by 3 commits, and can be fast-forwarded.\n",
            "  (use \"git pull\" to update your local branch)\n",
            "Updating 7aee3d7..81c3476\n",
            "error: Your local changes to the following files would be overwritten by merge:\n",
            "\tsrc/size_estimate.py\n",
            "Please commit your changes or stash them before you merge.\n",
            "Aborting\n",
            "/content/gdrive/MyDrive/ece5545\n"
          ]
        }
      ],
      "source": [
        "# Clone your github repo\n",
        "YOUR_TOKEN = token\n",
        "YOUR_HANDLE = handle\n",
        "BRANCH = \"main\"\n",
        "\n",
        "%mkdir /content/gdrive/MyDrive/ece5545\n",
        "%cd /content/gdrive/MyDrive/ece5545\n",
        "!git clone https://{YOUR_TOKEN}@github.com/ML-HW-SYS/a2-{YOUR_HANDLE}.git\n",
        "%cd /content/gdrive/MyDrive/ece5545/a2-{YOUR_HANDLE}\n",
        "!git checkout {BRANCH}\n",
        "!git pull\n",
        "%cd /content/gdrive/MyDrive/ece5545\n",
        "\n",
        "PROJECT_ROOT = f\"/content/gdrive/MyDrive/ece5545/a2-{YOUR_HANDLE}\""
      ]
    },
    {
      "cell_type": "code",
      "execution_count": 4,
      "metadata": {
        "id": "xHXYdHkzU1MX"
      },
      "outputs": [],
      "source": [
        "# This extension reloads all imports before running each cell\n",
        "%load_ext autoreload\n",
        "%autoreload 2"
      ]
    },
    {
      "cell_type": "markdown",
      "metadata": {
        "id": "t6zMfxIflRLB"
      },
      "source": [
        "### GPU\n",
        "\n",
        "Ensure you are running the GPU runtime type:\n",
        "1.   Click \"Runtime\" on top banner\n",
        "2.   Select \"Change runtime type\"\n",
        "3.   Under \"Hardware accelarator\" select \"GPU\" and save\n",
        "\n"
      ]
    },
    {
      "cell_type": "markdown",
      "metadata": {
        "id": "be4rOan-nHrF"
      },
      "source": [
        "### Import code dependencies"
      ]
    },
    {
      "cell_type": "code",
      "execution_count": 5,
      "metadata": {
        "id": "aDDr3IrkliKY",
        "colab": {
          "base_uri": "https://localhost:8080/"
        },
        "outputId": "423682ae-6e32-47c1-d3b1-0b6d025ef23c"
      },
      "outputs": [
        {
          "output_type": "stream",
          "name": "stdout",
          "text": [
            "Model folders are created, \n",
            "PyTorch models will be saved in /content/gdrive/MyDrive/ece5545/models/torch_models, \n",
            "ONNX models will be saved in /content/gdrive/MyDrive/ece5545/models/onnx_models, \n",
            "TensorFlow Saved Models will be saved in /content/gdrive/MyDrive/ece5545/models/tf_models, \n",
            "TensorFlow Lite models will be saved in /content/gdrive/MyDrive/ece5545/models/tflite_models, \n",
            "TensorFlow Lite Micro models will be saved in /content/gdrive/MyDrive/ece5545/models/micro_models.\n"
          ]
        }
      ],
      "source": [
        "import os\n",
        "import sys\n",
        "\n",
        "# Adding assignment 2 to the system path\n",
        "# -- make sure this matches your git directory\n",
        "sys.path.insert(0, PROJECT_ROOT)\n",
        "\n",
        "# Import libraries\n",
        "import torch\n",
        "import torch.nn as nn\n",
        "import torch.nn.functional as F\n",
        "import torch.optim as optim\n",
        "\n",
        "import matplotlib.pyplot as plt\n",
        "from tqdm.notebook import tqdm\n",
        "import numpy as np\n",
        "import copy\n",
        "\n",
        "# Import constants to use constants defined for training\n",
        "from src.constants import *\n",
        "# Import data_proc to use data processing functions\n",
        "import src.data_proc as data_proc\n",
        "\n",
        "random_seed = 0\n",
        "torch.manual_seed(random_seed)\n",
        "torch.cuda.manual_seed(random_seed)"
      ]
    },
    {
      "cell_type": "markdown",
      "metadata": {
        "id": "U7qaF1IEliKa"
      },
      "source": [
        "## 3.1 Download and Preprocess Data"
      ]
    },
    {
      "cell_type": "markdown",
      "metadata": {
        "id": "FLwsdGt_liKa"
      },
      "source": [
        "### Create audio processor\n",
        "This step is similar to what was done in part 2, so the files should already be downloaded in your Google Drive."
      ]
    },
    {
      "cell_type": "code",
      "execution_count": 6,
      "metadata": {
        "id": "Xdc42fZiliKa",
        "colab": {
          "base_uri": "https://localhost:8080/"
        },
        "outputId": "4b521d96-f15c-4b58-8114-bd22e366292b"
      },
      "outputs": [
        {
          "output_type": "stream",
          "name": "stdout",
          "text": [
            ">> Downloading speech_commands_v0.02.tar.gz 100.0%\n"
          ]
        }
      ],
      "source": [
        "# Create audio_processor\n",
        "audio_processor = data_proc.AudioProcessor()"
      ]
    },
    {
      "cell_type": "markdown",
      "metadata": {
        "id": "e53768H0liKf"
      },
      "source": [
        "### Select device: cuda or cpu"
      ]
    },
    {
      "cell_type": "code",
      "execution_count": 7,
      "metadata": {
        "id": "UrpzLHRhliKf",
        "colab": {
          "base_uri": "https://localhost:8080/"
        },
        "outputId": "adb5b3b5-ba49-4b84-c504-4a75329e417f"
      },
      "outputs": [
        {
          "output_type": "stream",
          "name": "stdout",
          "text": [
            "Using cuda to run the training scrpit.\n"
          ]
        }
      ],
      "source": [
        "# Define device\n",
        "device = torch.device(\"cuda\" if torch.cuda.is_available() else \"cpu\")\n",
        "print(f'Using {device} to run the training scrpit.')"
      ]
    },
    {
      "cell_type": "markdown",
      "metadata": {
        "id": "ViruC2uOnY3u"
      },
      "source": [
        "## 3.2 Data Loader"
      ]
    },
    {
      "cell_type": "code",
      "execution_count": 8,
      "metadata": {
        "id": "3qYQMncTliKb",
        "colab": {
          "base_uri": "https://localhost:8080/"
        },
        "outputId": "c2b1d813-391e-47fa-dc78-7215e857b7ca"
      },
      "outputs": [
        {
          "output_type": "stream",
          "name": "stdout",
          "text": [
            "Train size: 10556 Val size: 1333 Test size: 1368\n"
          ]
        }
      ],
      "source": [
        "# Define train, test, and validation set\n",
        "train_set = audio_processor.data_index['training']\n",
        "test_set = audio_processor.data_index['testing']\n",
        "valid_set = audio_processor.data_index['validation']\n",
        "\n",
        "# Define data loaders\n",
        "from src.loaders import make_data_loaders\n",
        "data_loaders = make_data_loaders(audio_processor, device)\n",
        "train_loader = data_loaders['training']\n",
        "test_loader = data_loaders['testing']\n",
        "valid_loader = data_loaders['validation']"
      ]
    },
    {
      "cell_type": "markdown",
      "metadata": {
        "id": "cBSyrbs6liKg"
      },
      "source": [
        "## 3.3 Define the Model"
      ]
    },
    {
      "cell_type": "code",
      "execution_count": 9,
      "metadata": {
        "id": "OERV-lIDliKi",
        "colab": {
          "base_uri": "https://localhost:8080/"
        },
        "outputId": "b82505ec-e190-4629-b21a-220427d31ec8"
      },
      "outputs": [
        {
          "output_type": "execute_result",
          "data": {
            "text/plain": [
              "TinyConv(\n",
              "  (conv_reshape): Reshape(output_shape=(-1, 1, 49, 40))\n",
              "  (conv): Conv2d(1, 8, kernel_size=(10, 8), stride=(2, 2), padding=(5, 3))\n",
              "  (relu): ReLU()\n",
              "  (dropout): Dropout(p=0.5, inplace=False)\n",
              "  (fc_reshape): Reshape(output_shape=(-1, 4000))\n",
              "  (fc): Linear(in_features=4000, out_features=4, bias=True)\n",
              "  (softmax): Softmax(dim=1)\n",
              ")"
            ]
          },
          "metadata": {},
          "execution_count": 9
        }
      ],
      "source": [
        "from src.networks import TinyConv\n",
        "# Create a full precision (float32) TinyConv model\n",
        "model_fp32 = TinyConv(\n",
        "    model_settings=audio_processor.model_settings,\n",
        "    n_input=1,\n",
        "    n_output=audio_processor.num_labels\n",
        ")\n",
        "model_fp32"
      ]
    },
    {
      "cell_type": "markdown",
      "metadata": {
        "id": "0PeiCwmdliKk"
      },
      "source": [
        "## 3.4 Training"
      ]
    },
    {
      "cell_type": "code",
      "execution_count": 10,
      "metadata": {
        "id": "pTDNIHCqliKj"
      },
      "outputs": [],
      "source": [
        "from src.train_val_test_utils import train, test"
      ]
    },
    {
      "cell_type": "markdown",
      "metadata": {
        "id": "Fnk6TOA8rv7C"
      },
      "source": [
        "### Adjust parameters\n",
        "*   You can change *n_epoch* to use a different number training steps/epochs"
      ]
    },
    {
      "cell_type": "code",
      "execution_count": 11,
      "metadata": {
        "id": "4twj3n1tliKk",
        "colab": {
          "base_uri": "https://localhost:8080/"
        },
        "outputId": "f24adacd-1b52-49be-cf76-38c1939aeed3"
      },
      "outputs": [
        {
          "output_type": "stream",
          "name": "stdout",
          "text": [
            "# batches: 106 \n",
            "# epochs: 50 \n",
            "# total training steps: 5300\n"
          ]
        }
      ],
      "source": [
        "num_batches = len(train_loader)\n",
        "n_epoch = 50\n",
        "print(f'# batches: {num_batches} \\n# epochs: {n_epoch} \\n# total training steps: {num_batches * n_epoch}')"
      ]
    },
    {
      "cell_type": "markdown",
      "metadata": {
        "id": "Ps_AJaYKliKk"
      },
      "source": [
        "### Create optimizer for training\n",
        " Explore more at:\n",
        "[TORCH. OPTIM](https://pytorch.org/docs/stable/optim.html?highlight=torch%20optim%20lr_scheduler)"
      ]
    },
    {
      "cell_type": "code",
      "execution_count": 12,
      "metadata": {
        "id": "VqVXUQzYliKk",
        "colab": {
          "base_uri": "https://localhost:8080/"
        },
        "outputId": "c4b4a5d2-86f6-4d6a-ec29-1543d8d26bee"
      },
      "outputs": [
        {
          "output_type": "stream",
          "name": "stdout",
          "text": [
            "{'state': {}, 'param_groups': [{'lr': 0.001, 'betas': (0.9, 0.999), 'eps': 1e-08, 'weight_decay': 0.0001, 'amsgrad': False, 'maximize': False, 'foreach': None, 'capturable': False, 'differentiable': False, 'fused': None, 'params': [0, 1, 2, 3]}]}\n"
          ]
        }
      ],
      "source": [
        "from src.train_val_test_utils import create_optimizer\n",
        "\n",
        "# Create optimizer\n",
        "optimizer_fp32 = create_optimizer(model=model_fp32, learning_rate=0.001)\n",
        "print(optimizer_fp32.state_dict())"
      ]
    },
    {
      "cell_type": "markdown",
      "metadata": {
        "id": "EX-iWv6Ash3R"
      },
      "source": [
        "### Train the model\n",
        "TensorBoard will allow you to visualize your results. The second code block, the training, will take a while to run."
      ]
    },
    {
      "cell_type": "code",
      "execution_count": 13,
      "metadata": {
        "id": "DGag-bchliKl",
        "colab": {
          "base_uri": "https://localhost:8080/",
          "height": 1000,
          "referenced_widgets": [
            "2f2178e5d07d4ff7a332ad47dd30b18c",
            "c272b0ec69d04fb2829b61d11d61d5e2",
            "19a7b2f14825433cbf74942e3b270cdb",
            "1fbf0942fc004d73b456df24757a850f",
            "7529fe5756154a0096578ee10fb1db24",
            "9d323617a11849768e29717b6c4b7207",
            "04ce7c45e8d2489b86a30b47e66b440e",
            "46ffe250c85741c5a7be52fabc836d66",
            "f474f15c7e5c4a1fbd337e7ed6fb789b",
            "5c0e7526f1684ca59303525b82460a88",
            "d632397e3cd8435298d7aaa483863448"
          ]
        },
        "outputId": "cf151b1d-ab08-46a8-d748-5ba89f2cfeb3"
      },
      "outputs": [
        {
          "output_type": "display_data",
          "data": {
            "text/plain": [
              "  0%|          | 0/50 [00:00<?, ?it/s]"
            ],
            "application/vnd.jupyter.widget-view+json": {
              "version_major": 2,
              "version_minor": 0,
              "model_id": "2f2178e5d07d4ff7a332ad47dd30b18c"
            }
          },
          "metadata": {}
        },
        {
          "output_type": "stream",
          "name": "stderr",
          "text": [
            "<ipython-input-13-0f09e9a81e5e>:12: FutureWarning: You are using `torch.load` with `weights_only=False` (the current default value), which uses the default pickle module implicitly. It is possible to construct malicious pickle data which will execute arbitrary code during unpickling (See https://github.com/pytorch/pytorch/blob/main/SECURITY.md#untrusted-models for more details). In a future release, the default value for `weights_only` will be flipped to `True`. This limits the functions that could be executed during unpickling. Arbitrary objects will no longer be allowed to be loaded via this mode unless they are explicitly allowlisted by the user via `torch.serialization.add_safe_globals`. We recommend you start setting `weights_only=True` for any use case where you don't have full control of the loaded file. Please open an issue on GitHub for any issues related to this experimental feature.\n",
            "  checkpoint = torch.load(checkpoint_path)\n"
          ]
        },
        {
          "output_type": "stream",
          "name": "stdout",
          "text": [
            "Val Acc Epoch 4 = 87.85%, Train loss = 0.473\n",
            "\n",
            "Valid epoch: 4\tAccuracy: 1157/1333 (86.80%)\n",
            "\n",
            "Val Acc Epoch 5 = 88.52%, Train loss = 0.456\n",
            "\n",
            "Valid epoch: 5\tAccuracy: 1175/1333 (88.15%)\n",
            "\n",
            "Val Acc Epoch 6 = 87.4%, Train loss = 0.436\n",
            "\n",
            "Valid epoch: 6\tAccuracy: 1182/1333 (88.67%)\n",
            "\n",
            "Val Acc Epoch 7 = 88.0%, Train loss = 0.431\n",
            "\n",
            "Valid epoch: 7\tAccuracy: 1176/1333 (88.22%)\n",
            "\n",
            "Val Acc Epoch 8 = 89.05%, Train loss = 0.427\n",
            "\n",
            "Valid epoch: 8\tAccuracy: 1179/1333 (88.45%)\n",
            "\n",
            "Val Acc Epoch 9 = 88.52%, Train loss = 0.417\n",
            "\n",
            "Valid epoch: 9\tAccuracy: 1166/1333 (87.47%)\n",
            "\n",
            "Val Acc Epoch 10 = 89.42%, Train loss = 0.416\n",
            "\n",
            "Valid epoch: 10\tAccuracy: 1201/1333 (90.10%)\n",
            "\n",
            "Val Acc Epoch 11 = 89.05%, Train loss = 0.395\n",
            "\n",
            "Valid epoch: 11\tAccuracy: 1182/1333 (88.67%)\n",
            "\n",
            "Val Acc Epoch 12 = 89.12%, Train loss = 0.4\n",
            "\n",
            "Valid epoch: 12\tAccuracy: 1178/1333 (88.37%)\n",
            "\n",
            "Val Acc Epoch 13 = 89.12%, Train loss = 0.396\n",
            "\n",
            "Valid epoch: 13\tAccuracy: 1185/1333 (88.90%)\n",
            "\n",
            "Val Acc Epoch 14 = 88.97%, Train loss = 0.392\n",
            "\n",
            "Valid epoch: 14\tAccuracy: 1193/1333 (89.50%)\n",
            "\n",
            "Val Acc Epoch 15 = 89.2%, Train loss = 0.396\n",
            "\n",
            "Valid epoch: 15\tAccuracy: 1193/1333 (89.50%)\n",
            "\n",
            "Val Acc Epoch 16 = 89.2%, Train loss = 0.383\n",
            "\n",
            "Valid epoch: 16\tAccuracy: 1191/1333 (89.35%)\n",
            "\n",
            "Val Acc Epoch 17 = 90.55%, Train loss = 0.386\n",
            "\n",
            "Valid epoch: 17\tAccuracy: 1186/1333 (88.97%)\n",
            "\n",
            "Val Acc Epoch 18 = 90.4%, Train loss = 0.377\n",
            "\n",
            "Valid epoch: 18\tAccuracy: 1206/1333 (90.47%)\n",
            "\n",
            "Val Acc Epoch 19 = 89.72%, Train loss = 0.38\n",
            "\n",
            "Valid epoch: 19\tAccuracy: 1197/1333 (89.80%)\n",
            "\n",
            "Val Acc Epoch 20 = 89.95%, Train loss = 0.377\n",
            "\n",
            "Valid epoch: 20\tAccuracy: 1189/1333 (89.20%)\n",
            "\n",
            "Val Acc Epoch 21 = 90.85%, Train loss = 0.371\n",
            "\n",
            "Valid epoch: 21\tAccuracy: 1205/1333 (90.40%)\n",
            "\n",
            "Val Acc Epoch 22 = 89.5%, Train loss = 0.37\n",
            "\n",
            "Valid epoch: 22\tAccuracy: 1206/1333 (90.47%)\n",
            "\n",
            "Val Acc Epoch 23 = 90.7%, Train loss = 0.378\n",
            "\n",
            "Valid epoch: 23\tAccuracy: 1205/1333 (90.40%)\n",
            "\n",
            "Val Acc Epoch 24 = 90.25%, Train loss = 0.372\n",
            "\n",
            "Valid epoch: 24\tAccuracy: 1196/1333 (89.72%)\n",
            "\n",
            "Val Acc Epoch 25 = 90.77%, Train loss = 0.357\n",
            "\n",
            "Valid epoch: 25\tAccuracy: 1190/1333 (89.27%)\n",
            "\n",
            "Val Acc Epoch 26 = 88.97%, Train loss = 0.364\n",
            "\n",
            "Valid epoch: 26\tAccuracy: 1189/1333 (89.20%)\n",
            "\n",
            "Val Acc Epoch 27 = 91.0%, Train loss = 0.361\n",
            "\n",
            "Valid epoch: 27\tAccuracy: 1205/1333 (90.40%)\n",
            "\n",
            "Val Acc Epoch 28 = 90.02%, Train loss = 0.362\n",
            "\n",
            "Valid epoch: 28\tAccuracy: 1190/1333 (89.27%)\n",
            "\n",
            "Val Acc Epoch 29 = 90.85%, Train loss = 0.357\n",
            "\n",
            "Valid epoch: 29\tAccuracy: 1215/1333 (91.15%)\n",
            "\n",
            "Val Acc Epoch 30 = 91.37%, Train loss = 0.362\n",
            "\n",
            "Valid epoch: 30\tAccuracy: 1214/1333 (91.07%)\n",
            "\n",
            "Val Acc Epoch 31 = 90.02%, Train loss = 0.351\n",
            "\n",
            "Valid epoch: 31\tAccuracy: 1205/1333 (90.40%)\n",
            "\n",
            "Val Acc Epoch 32 = 91.07%, Train loss = 0.349\n",
            "\n",
            "Valid epoch: 32\tAccuracy: 1209/1333 (90.70%)\n",
            "\n",
            "Val Acc Epoch 33 = 89.87%, Train loss = 0.358\n",
            "\n",
            "Valid epoch: 33\tAccuracy: 1199/1333 (89.95%)\n",
            "\n",
            "Val Acc Epoch 34 = 90.85%, Train loss = 0.353\n",
            "\n",
            "Valid epoch: 34\tAccuracy: 1218/1333 (91.37%)\n",
            "\n",
            "Val Acc Epoch 35 = 91.82%, Train loss = 0.35\n",
            "\n",
            "Valid epoch: 35\tAccuracy: 1216/1333 (91.22%)\n",
            "\n",
            "Val Acc Epoch 36 = 90.85%, Train loss = 0.343\n",
            "\n",
            "Valid epoch: 36\tAccuracy: 1210/1333 (90.77%)\n",
            "\n",
            "Val Acc Epoch 37 = 91.15%, Train loss = 0.343\n",
            "\n",
            "Valid epoch: 37\tAccuracy: 1218/1333 (91.37%)\n",
            "\n",
            "Val Acc Epoch 38 = 90.55%, Train loss = 0.342\n",
            "\n",
            "Valid epoch: 38\tAccuracy: 1204/1333 (90.32%)\n",
            "\n",
            "Val Acc Epoch 39 = 90.7%, Train loss = 0.346\n",
            "\n",
            "Valid epoch: 39\tAccuracy: 1228/1333 (92.12%)\n",
            "\n",
            "Val Acc Epoch 40 = 91.45%, Train loss = 0.344\n",
            "\n",
            "Valid epoch: 40\tAccuracy: 1207/1333 (90.55%)\n",
            "\n",
            "Val Acc Epoch 41 = 91.0%, Train loss = 0.347\n",
            "\n",
            "Valid epoch: 41\tAccuracy: 1205/1333 (90.40%)\n",
            "\n",
            "Val Acc Epoch 42 = 90.62%, Train loss = 0.334\n",
            "\n",
            "Valid epoch: 42\tAccuracy: 1208/1333 (90.62%)\n",
            "\n",
            "Val Acc Epoch 43 = 91.67%, Train loss = 0.343\n",
            "\n",
            "Valid epoch: 43\tAccuracy: 1223/1333 (91.75%)\n",
            "\n",
            "Val Acc Epoch 44 = 92.05%, Train loss = 0.331\n",
            "\n",
            "Valid epoch: 44\tAccuracy: 1219/1333 (91.45%)\n",
            "\n",
            "Val Acc Epoch 45 = 91.37%, Train loss = 0.34\n",
            "\n",
            "Valid epoch: 45\tAccuracy: 1223/1333 (91.75%)\n",
            "\n",
            "Val Acc Epoch 46 = 92.05%, Train loss = 0.335\n",
            "\n",
            "Valid epoch: 46\tAccuracy: 1214/1333 (91.07%)\n",
            "\n",
            "Val Acc Epoch 47 = 90.92%, Train loss = 0.327\n",
            "\n",
            "Valid epoch: 47\tAccuracy: 1222/1333 (91.67%)\n",
            "\n",
            "Val Acc Epoch 48 = 91.67%, Train loss = 0.335\n",
            "\n",
            "Valid epoch: 48\tAccuracy: 1223/1333 (91.75%)\n",
            "\n",
            "Val Acc Epoch 49 = 91.75%, Train loss = 0.333\n",
            "\n",
            "Valid epoch: 49\tAccuracy: 1221/1333 (91.60%)\n",
            "\n",
            "Val Acc Epoch 50 = 92.27%, Train loss = 0.34\n",
            "\n",
            "Valid epoch: 50\tAccuracy: 1234/1333 (92.57%)\n",
            "\n",
            "Test Acc = 92.03%\n"
          ]
        }
      ],
      "source": [
        "pbar_update = 1 / (len(train_loader) + len(test_loader) + len(valid_loader))\n",
        "\n",
        "def run_training(model, data_loaders, n_epoch, optimizer,\n",
        "                 save_interval=1, resume=True, checkpoint_path=None):\n",
        "    test_loader = data_loaders['testing']\n",
        "    with tqdm(total=n_epoch) as pbar:\n",
        "\n",
        "        completed_epoch = 1\n",
        "        if resume:\n",
        "            try:\n",
        "                #continue training with previous model if one exists\n",
        "                checkpoint = torch.load(checkpoint_path)\n",
        "                model.load_state_dict(checkpoint['model_state_dict'])\n",
        "                optimizer.load_state_dict(checkpoint['optimizer_state_dict'])\n",
        "                completed_epoch = checkpoint[\"epoch\"] + 1\n",
        "                model.eval()\n",
        "                pbar.update(completed_epoch)\n",
        "            except:\n",
        "                pass\n",
        "\n",
        "        last_valacc = 0\n",
        "        for epoch in range(completed_epoch, n_epoch + 1):\n",
        "            train_iters = len(data_loaders['training'])\n",
        "\n",
        "            train(model, data_loaders, optimizer,\n",
        "                      epoch, device)\n",
        "\n",
        "            valacc = test(valid_loader, model, device, epoch=epoch,\n",
        "                          loader_type='Valid', verbose=True)\n",
        "            #checkpoint the model every epoch\n",
        "            if epoch % save_interval == 0 and valacc > last_valacc:\n",
        "                last_valacc = valacc\n",
        "                torch.save({\n",
        "                    'epoch': epoch,\n",
        "                    'model_state_dict': model.state_dict(),\n",
        "                    'optimizer_state_dict': optimizer.state_dict()\n",
        "                }, checkpoint_path)\n",
        "\n",
        "            # Update epoch pbar\n",
        "            pbar.update(1)\n",
        "\n",
        "        testacc = test(test_loader, model, device,\n",
        "                     epoch=None, loader_type='Test')\n",
        "        print(f'Test Acc = {round(testacc,2)}%')\n",
        "\n",
        "\n",
        "# This is where your checkpoint file will be saved\n",
        "checkpoint_path = os.path.join(TORCH_DIR, \"fp32_checkpoint.pt\")\n",
        "\n",
        "model_fp32.to(device)\n",
        "run_training(\n",
        "    model=model_fp32, data_loaders=data_loaders,\n",
        "    n_epoch=n_epoch, optimizer=optimizer_fp32,\n",
        "    resume=True, checkpoint_path=checkpoint_path\n",
        ")"
      ]
    },
    {
      "cell_type": "markdown",
      "metadata": {
        "id": "Qg1WlG-rliKl"
      },
      "source": [
        "## 3.5 Testing"
      ]
    },
    {
      "cell_type": "markdown",
      "metadata": {
        "id": "oYgFvfYAliKm"
      },
      "source": [
        "### Calculating accuracy\n"
      ]
    },
    {
      "cell_type": "code",
      "execution_count": 19,
      "metadata": {
        "id": "9PtKvJH_liKm",
        "colab": {
          "base_uri": "https://localhost:8080/",
          "height": 1000
        },
        "outputId": "58266685-a3c8-4c38-849e-e344331363ba"
      },
      "outputs": [
        {
          "output_type": "stream",
          "name": "stdout",
          "text": [
            "Train size: 10556 Val size: 1333 Test size: 1368\n"
          ]
        },
        {
          "output_type": "display_data",
          "data": {
            "text/plain": [
              "<Figure size 640x480 with 1 Axes>"
            ],
            "image/png": "[encoded data removed]"
          },
          "metadata": {}
        },
        {
          "output_type": "display_data",
          "data": {
            "text/plain": [
              "<Figure size 640x480 with 1 Axes>"
            ],
            "image/png": "[encoded data removed]"
          },
          "metadata": {}
        },
        {
          "output_type": "display_data",
          "data": {
            "text/plain": [
              "<Figure size 640x480 with 1 Axes>"
            ],
            "image/png": "[encoded data removed]"
          },
          "metadata": {}
        }
      ],
      "source": [
        "from src.train_val_test_utils import plot_acc\n",
        "\n",
        "test_time_data_loaders = make_data_loaders(\n",
        "    audio_processor, device,\n",
        "    test_batch_size=1, valid_batch_size=1,\n",
        "    num_workers=0\n",
        ")\n",
        "\n",
        "plot_acc(\n",
        "    test_time_data_loaders['validation'], model_fp32, audio_processor, device,\n",
        "    \"validation\", 'float32 TinyConv', \"float\")\n",
        "plot_acc(\n",
        "    test_time_data_loaders['training'], model_fp32, audio_processor, device,\n",
        "    \"training\", 'float32 TinyConv', \"float\")\n",
        "acc = plot_acc(\n",
        "    test_time_data_loaders['testing'], model_fp32, audio_processor, device,\n",
        "    'testing', 'float32 TinyConv', \"float\")"
      ]
    },
    {
      "cell_type": "markdown",
      "metadata": {
        "id": "_tMzxb-jliKm"
      },
      "source": [
        "## 3.6 Save the Trained Model"
      ]
    },
    {
      "cell_type": "code",
      "execution_count": 15,
      "metadata": {
        "id": "zqC6fEoUliKm"
      },
      "outputs": [],
      "source": [
        "def choose_name(model_name):\n",
        "    name = f\"{model_name}_\" + \"{index}\"\n",
        "    i = 0\n",
        "    while os.path.isfile(name.format(index=i)):\n",
        "        i += 1\n",
        "    name = name.format(index = i)\n",
        "    print(f\"The model's will be stored as: \\n {name}\")\n",
        "    return name\n",
        "\n",
        "def save_model(model, path):\n",
        "    torch.save(model.state_dict(), path)"
      ]
    },
    {
      "cell_type": "code",
      "execution_count": 16,
      "metadata": {
        "id": "VVKrP45aliKm",
        "colab": {
          "base_uri": "https://localhost:8080/",
          "height": 72
        },
        "outputId": "662b6467-ce87-4dba-eda0-8d25046a97cb"
      },
      "outputs": [
        {
          "output_type": "stream",
          "name": "stdout",
          "text": [
            "The model's will be stored as: \n",
            " tinyconv_float32_init_seed0_90.72%_0\n"
          ]
        },
        {
          "output_type": "execute_result",
          "data": {
            "text/plain": [
              "'/content/gdrive/MyDrive/ece5545/models/torch_models/tinyconv_float32_init_seed0_90.72%_0.pt'"
            ],
            "application/vnd.google.colaboratory.intrinsic+json": {
              "type": "string"
            }
          },
          "metadata": {},
          "execution_count": 16
        }
      ],
      "source": [
        "# Choose a path\n",
        "# You can also define your own path\n",
        "model_name = f\"tinyconv_float32_init_seed{torch.initial_seed()}_{acc * 100:.2f}%\"\n",
        "file_name = choose_name(model_name)\n",
        "torch_path = os.path.join(TORCH_DIR, f'{file_name}.pt')\n",
        "torch_path"
      ]
    },
    {
      "cell_type": "code",
      "execution_count": 17,
      "metadata": {
        "id": "JHgqZ8yXliKn",
        "colab": {
          "base_uri": "https://localhost:8080/",
          "height": 36
        },
        "outputId": "30ed028e-e9a5-4685-c6e7-0ddeeb74d464"
      },
      "outputs": [
        {
          "output_type": "execute_result",
          "data": {
            "text/plain": [
              "'Saved!'"
            ],
            "application/vnd.google.colaboratory.intrinsic+json": {
              "type": "string"
            }
          },
          "metadata": {},
          "execution_count": 17
        }
      ],
      "source": [
        "# Save the trained pytorch model to torch_path\n",
        "save_model(model_fp32, torch_path)\n",
        "'Saved!'"
      ]
    },
    {
      "cell_type": "code",
      "execution_count": 18,
      "metadata": {
        "id": "CnJHbwj0UAi5",
        "colab": {
          "base_uri": "https://localhost:8080/",
          "height": 36
        },
        "outputId": "1e1ef897-fc1e-4e99-981e-4d9abe09a8a4"
      },
      "outputs": [
        {
          "output_type": "execute_result",
          "data": {
            "text/plain": [
              "'You can now find your model in /content/gdrive/MyDrive/ece5545/models/torch_models/tinyconv_float32_init_seed0_90.72%_0.pt under the folder icon to the left.'"
            ],
            "application/vnd.google.colaboratory.intrinsic+json": {
              "type": "string"
            }
          },
          "metadata": {},
          "execution_count": 18
        }
      ],
      "source": [
        "'You can now find your model in %s under the folder icon to the left.' % torch_path"
      ]
    },
    {
      "cell_type": "code",
      "execution_count": 20,
      "metadata": {
        "id": "kauQRx68xaeo",
        "colab": {
          "base_uri": "https://localhost:8080/",
          "height": 507
        },
        "outputId": "4e751378-e982-4ef4-b3cf-f71145a6a5c1"
      },
      "outputs": [
        {
          "output_type": "display_data",
          "data": {
            "text/plain": [
              "<Figure size 1200x500 with 2 Axes>"
            ],
            "image/png": "[encoded data removed]"
          },
          "metadata": {}
        }
      ],
      "source": [
        "import matplotlib.pyplot as plt\n",
        "import numpy as np\n",
        "\n",
        "epochs = np.arange(1, 50)\n",
        "\n",
        "train_loss = [\n",
        "    0.473, 0.456, 0.436, 0.431, 0.427, 0.417, 0.416, 0.395, 0.4, 0.396,\n",
        "    0.392, 0.396, 0.383, 0.386, 0.377, 0.38, 0.377, 0.371, 0.37, 0.378,\n",
        "    0.372, 0.357, 0.364, 0.361, 0.362, 0.357, 0.351, 0.349, 0.358, 0.353,\n",
        "    0.35, 0.343, 0.343, 0.342, 0.346, 0.344, 0.347, 0.334, 0.343, 0.331,\n",
        "    0.34, 0.335, 0.327, 0.335, 0.333, 0.34, 0.335, 0.333, 0.34\n",
        "]\n",
        "\n",
        "val_acc = [\n",
        "    87.85, 88.52, 87.4, 88.0, 89.05, 88.52, 89.42, 89.05, 89.12, 89.12,\n",
        "    88.97, 89.2, 89.2, 90.55, 90.4, 89.72, 89.95, 90.85, 89.5, 90.7,\n",
        "    90.25, 90.77, 88.97, 91.0, 90.02, 90.85, 91.37, 90.02, 91.07, 89.87,\n",
        "    90.85, 91.82, 90.85, 91.15, 90.55, 90.7, 91.45, 91.0, 90.62, 91.67,\n",
        "    92.05, 91.37, 92.05, 90.92, 91.67, 91.75, 92.27, 91.75, 92.57\n",
        "]\n",
        "\n",
        "valid_epoch_acc = [\n",
        "    86.80, 88.15, 88.67, 88.22, 88.45, 87.47, 90.10, 88.67, 88.37, 88.90,\n",
        "    89.50, 89.50, 89.35, 88.97, 90.47, 89.80, 89.20, 90.40, 90.47, 90.40,\n",
        "    89.72, 89.27, 89.20, 90.40, 89.27, 91.15, 91.07, 90.40, 90.70, 89.95,\n",
        "    91.37, 91.22, 90.77, 91.37, 90.32, 92.12, 90.55, 90.40, 90.62, 91.75,\n",
        "    91.45, 91.75, 91.07, 91.67, 91.75, 91.60, 92.57, 91.75, 92.57\n",
        "]\n",
        "\n",
        "plt.subplot(1, 2, 1)\n",
        "plt.plot(epochs, train_loss, label=\"Training Loss\", color=\"red\", marker=\"o\")\n",
        "plt.xlabel(\"Epochs\")\n",
        "plt.ylabel(\"Loss\")\n",
        "plt.title(\"Training Loss Curve\")\n",
        "plt.legend()\n",
        "\n",
        "plt.subplot(1, 2, 2)\n",
        "plt.plot(epochs, val_acc, label=\"Validation Accuracy\", color=\"blue\", marker=\"o\")\n",
        "plt.plot(epochs, valid_epoch_acc, label=\"Valid Epoch Accuracy\", color=\"green\", linestyle=\"dashed\", marker=\"s\")\n",
        "plt.xlabel(\"Epochs\")\n",
        "plt.ylabel(\"Accuracy (%)\")\n",
        "plt.title(\"Validation Accuracy Curve\")\n",
        "plt.legend()\n",
        "\n",
        "plt.tight_layout()\n",
        "plt.show()\n"
      ]
    },
    {
      "cell_type": "code",
      "source": [
        "print(\"Number of keyword classes:\", audio_processor.num_labels)\n",
        "print(\"Keyword classes:\", audio_processor.words_list)\n",
        "print(\"Training samples:\", len(train_set))\n",
        "print(\"Testing samples:\", len(test_set))\n",
        "print(\"Validation samples:\", len(valid_set))\n"
      ],
      "metadata": {
        "id": "-dhl63ou1OZE",
        "outputId": "a8a0ad1e-2a9d-47c1-f42c-a30e56604f1e",
        "colab": {
          "base_uri": "https://localhost:8080/"
        }
      },
      "execution_count": 22,
      "outputs": [
        {
          "output_type": "stream",
          "name": "stdout",
          "text": [
            "Number of keyword classes: 4\n",
            "Keyword classes: ['_silence_', '_unknown_', 'yes', 'no']\n",
            "Training samples: 10556\n",
            "Testing samples: 1368\n",
            "Validation samples: 1333\n"
          ]
        }
      ]
    }
  ],
  "metadata": {
    "accelerator": "GPU",
    "colab": {
      "name": "3_training_and_analysis.ipynb",
      "provenance": [],
      "toc_visible": true,
      "gpuType": "T4",
      "include_colab_link": true
    },
    "interpreter": {
      "hash": "92bf126df007708fd70c442c808ee74575bedf7ea6317e0b182c3af0184af25d"
    },
    "kernelspec": {
      "display_name": "Python 3",
      "name": "python3"
    },
    "language_info": {
      "name": "python"
    },
    "widgets": {
      "application/vnd.jupyter.widget-state+json": {
        "2f2178e5d07d4ff7a332ad47dd30b18c": {
          "model_module": "@jupyter-widgets/controls",
          "model_name": "HBoxModel",
          "model_module_version": "1.5.0",
          "state": {
            "_dom_classes": [],
            "_model_module": "@jupyter-widgets/controls",
            "_model_module_version": "1.5.0",
            "_model_name": "HBoxModel",
            "_view_count": null,
            "_view_module": "@jupyter-widgets/controls",
            "_view_module_version": "1.5.0",
            "_view_name": "HBoxView",
            "box_style": "",
            "children": [
              "IPY_MODEL_c272b0ec69d04fb2829b61d11d61d5e2",
              "IPY_MODEL_19a7b2f14825433cbf74942e3b270cdb",
              "IPY_MODEL_1fbf0942fc004d73b456df24757a850f"
            ],
            "layout": "IPY_MODEL_7529fe5756154a0096578ee10fb1db24"
          }
        },
        "c272b0ec69d04fb2829b61d11d61d5e2": {
          "model_module": "@jupyter-widgets/controls",
          "model_name": "HTMLModel",
          "model_module_version": "1.5.0",
          "state": {
            "_dom_classes": [],
            "_model_module": "@jupyter-widgets/controls",
            "_model_module_version": "1.5.0",
            "_model_name": "HTMLModel",
            "_view_count": null,
            "_view_module": "@jupyter-widgets/controls",
            "_view_module_version": "1.5.0",
            "_view_name": "HTMLView",
            "description": "",
            "description_tooltip": null,
            "layout": "IPY_MODEL_9d323617a11849768e29717b6c4b7207",
            "placeholder": "​",
            "style": "IPY_MODEL_04ce7c45e8d2489b86a30b47e66b440e",
            "value": ""
          }
        },
        "19a7b2f14825433cbf74942e3b270cdb": {
          "model_module": "@jupyter-widgets/controls",
          "model_name": "FloatProgressModel",
          "model_module_version": "1.5.0",
          "state": {
            "_dom_classes": [],
            "_model_module": "@jupyter-widgets/controls",
            "_model_module_version": "1.5.0",
            "_model_name": "FloatProgressModel",
            "_view_count": null,
            "_view_module": "@jupyter-widgets/controls",
            "_view_module_version": "1.5.0",
            "_view_name": "ProgressView",
            "bar_style": "success",
            "description": "",
            "description_tooltip": null,
            "layout": "IPY_MODEL_46ffe250c85741c5a7be52fabc836d66",
            "max": 50,
            "min": 0,
            "orientation": "horizontal",
            "style": "IPY_MODEL_f474f15c7e5c4a1fbd337e7ed6fb789b",
            "value": 50
          }
        },
        "1fbf0942fc004d73b456df24757a850f": {
          "model_module": "@jupyter-widgets/controls",
          "model_name": "HTMLModel",
          "model_module_version": "1.5.0",
          "state": {
            "_dom_classes": [],
            "_model_module": "@jupyter-widgets/controls",
            "_model_module_version": "1.5.0",
            "_model_name": "HTMLModel",
            "_view_count": null,
            "_view_module": "@jupyter-widgets/controls",
            "_view_module_version": "1.5.0",
            "_view_name": "HTMLView",
            "description": "",
            "description_tooltip": null,
            "layout": "IPY_MODEL_5c0e7526f1684ca59303525b82460a88",
            "placeholder": "​",
            "style": "IPY_MODEL_d632397e3cd8435298d7aaa483863448",
            "value": " 51/? [1:07:18&lt;00:00, 83.62s/it]"
          }
        },
        "7529fe5756154a0096578ee10fb1db24": {
          "model_module": "@jupyter-widgets/base",
          "model_name": "LayoutModel",
          "model_module_version": "1.2.0",
          "state": {
            "_model_module": "@jupyter-widgets/base",
            "_model_module_version": "1.2.0",
            "_model_name": "LayoutModel",
            "_view_count": null,
            "_view_module": "@jupyter-widgets/base",
            "_view_module_version": "1.2.0",
            "_view_name": "LayoutView",
            "align_content": null,
            "align_items": null,
            "align_self": null,
            "border": null,
            "bottom": null,
            "display": null,
            "flex": null,
            "flex_flow": null,
            "grid_area": null,
            "grid_auto_columns": null,
            "grid_auto_flow": null,
            "grid_auto_rows": null,
            "grid_column": null,
            "grid_gap": null,
            "grid_row": null,
            "grid_template_areas": null,
            "grid_template_columns": null,
            "grid_template_rows": null,
            "height": null,
            "justify_content": null,
            "justify_items": null,
            "left": null,
            "margin": null,
            "max_height": null,
            "max_width": null,
            "min_height": null,
            "min_width": null,
            "object_fit": null,
            "object_position": null,
            "order": null,
            "overflow": null,
            "overflow_x": null,
            "overflow_y": null,
            "padding": null,
            "right": null,
            "top": null,
            "visibility": null,
            "width": null
          }
        },
        "9d323617a11849768e29717b6c4b7207": {
          "model_module": "@jupyter-widgets/base",
          "model_name": "LayoutModel",
          "model_module_version": "1.2.0",
          "state": {
            "_model_module": "@jupyter-widgets/base",
            "_model_module_version": "1.2.0",
            "_model_name": "LayoutModel",
            "_view_count": null,
            "_view_module": "@jupyter-widgets/base",
            "_view_module_version": "1.2.0",
            "_view_name": "LayoutView",
            "align_content": null,
            "align_items": null,
            "align_self": null,
            "border": null,
            "bottom": null,
            "display": null,
            "flex": null,
            "flex_flow": null,
            "grid_area": null,
            "grid_auto_columns": null,
            "grid_auto_flow": null,
            "grid_auto_rows": null,
            "grid_column": null,
            "grid_gap": null,
            "grid_row": null,
            "grid_template_areas": null,
            "grid_template_columns": null,
            "grid_template_rows": null,
            "height": null,
            "justify_content": null,
            "justify_items": null,
            "left": null,
            "margin": null,
            "max_height": null,
            "max_width": null,
            "min_height": null,
            "min_width": null,
            "object_fit": null,
            "object_position": null,
            "order": null,
            "overflow": null,
            "overflow_x": null,
            "overflow_y": null,
            "padding": null,
            "right": null,
            "top": null,
            "visibility": null,
            "width": null
          }
        },
        "04ce7c45e8d2489b86a30b47e66b440e": {
          "model_module": "@jupyter-widgets/controls",
          "model_name": "DescriptionStyleModel",
          "model_module_version": "1.5.0",
          "state": {
            "_model_module": "@jupyter-widgets/controls",
            "_model_module_version": "1.5.0",
            "_model_name": "DescriptionStyleModel",
            "_view_count": null,
            "_view_module": "@jupyter-widgets/base",
            "_view_module_version": "1.2.0",
            "_view_name": "StyleView",
            "description_width": ""
          }
        },
        "46ffe250c85741c5a7be52fabc836d66": {
          "model_module": "@jupyter-widgets/base",
          "model_name": "LayoutModel",
          "model_module_version": "1.2.0",
          "state": {
            "_model_module": "@jupyter-widgets/base",
            "_model_module_version": "1.2.0",
            "_model_name": "LayoutModel",
            "_view_count": null,
            "_view_module": "@jupyter-widgets/base",
            "_view_module_version": "1.2.0",
            "_view_name": "LayoutView",
            "align_content": null,
            "align_items": null,
            "align_self": null,
            "border": null,
            "bottom": null,
            "display": null,
            "flex": null,
            "flex_flow": null,
            "grid_area": null,
            "grid_auto_columns": null,
            "grid_auto_flow": null,
            "grid_auto_rows": null,
            "grid_column": null,
            "grid_gap": null,
            "grid_row": null,
            "grid_template_areas": null,
            "grid_template_columns": null,
            "grid_template_rows": null,
            "height": null,
            "justify_content": null,
            "justify_items": null,
            "left": null,
            "margin": null,
            "max_height": null,
            "max_width": null,
            "min_height": null,
            "min_width": null,
            "object_fit": null,
            "object_position": null,
            "order": null,
            "overflow": null,
            "overflow_x": null,
            "overflow_y": null,
            "padding": null,
            "right": null,
            "top": null,
            "visibility": null,
            "width": null
          }
        },
        "f474f15c7e5c4a1fbd337e7ed6fb789b": {
          "model_module": "@jupyter-widgets/controls",
          "model_name": "ProgressStyleModel",
          "model_module_version": "1.5.0",
          "state": {
            "_model_module": "@jupyter-widgets/controls",
            "_model_module_version": "1.5.0",
            "_model_name": "ProgressStyleModel",
            "_view_count": null,
            "_view_module": "@jupyter-widgets/base",
            "_view_module_version": "1.2.0",
            "_view_name": "StyleView",
            "bar_color": null,
            "description_width": ""
          }
        },
        "5c0e7526f1684ca59303525b82460a88": {
          "model_module": "@jupyter-widgets/base",
          "model_name": "LayoutModel",
          "model_module_version": "1.2.0",
          "state": {
            "_model_module": "@jupyter-widgets/base",
            "_model_module_version": "1.2.0",
            "_model_name": "LayoutModel",
            "_view_count": null,
            "_view_module": "@jupyter-widgets/base",
            "_view_module_version": "1.2.0",
            "_view_name": "LayoutView",
            "align_content": null,
            "align_items": null,
            "align_self": null,
            "border": null,
            "bottom": null,
            "display": null,
            "flex": null,
            "flex_flow": null,
            "grid_area": null,
            "grid_auto_columns": null,
            "grid_auto_flow": null,
            "grid_auto_rows": null,
            "grid_column": null,
            "grid_gap": null,
            "grid_row": null,
            "grid_template_areas": null,
            "grid_template_columns": null,
            "grid_template_rows": null,
            "height": null,
            "justify_content": null,
            "justify_items": null,
            "left": null,
            "margin": null,
            "max_height": null,
            "max_width": null,
            "min_height": null,
            "min_width": null,
            "object_fit": null,
            "object_position": null,
            "order": null,
            "overflow": null,
            "overflow_x": null,
            "overflow_y": null,
            "padding": null,
            "right": null,
            "top": null,
            "visibility": null,
            "width": null
          }
        },
        "d632397e3cd8435298d7aaa483863448": {
          "model_module": "@jupyter-widgets/controls",
          "model_name": "DescriptionStyleModel",
          "model_module_version": "1.5.0",
          "state": {
            "_model_module": "@jupyter-widgets/controls",
            "_model_module_version": "1.5.0",
            "_model_name": "DescriptionStyleModel",
            "_view_count": null,
            "_view_module": "@jupyter-widgets/base",
            "_view_module_version": "1.2.0",
            "_view_name": "StyleView",
            "description_width": ""
          }
        }
      }
    }
  },
  "nbformat": 4,
  "nbformat_minor": 0
}